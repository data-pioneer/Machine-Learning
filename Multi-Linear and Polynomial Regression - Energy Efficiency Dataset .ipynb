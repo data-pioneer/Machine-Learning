{
 "cells": [
  {
   "cell_type": "markdown",
   "id": "a53f4289",
   "metadata": {},
   "source": [
    "## Problem Statement:\n",
    "### Multi-Linear and Polynomial Regression on the Energy Efficiency Dataset to predict the heating load (y1) of buildings."
   ]
  },
  {
   "cell_type": "code",
   "execution_count": 2,
   "id": "05ab5ab3",
   "metadata": {},
   "outputs": [],
   "source": [
    "%matplotlib inline"
   ]
  },
  {
   "cell_type": "code",
   "execution_count": 3,
   "id": "c7db1ef4",
   "metadata": {},
   "outputs": [],
   "source": [
    "# import all necessary libraries \n",
    "from sklearn.preprocessing import StandardScaler, PolynomialFeatures\n",
    "from sklearn.metrics import mean_absolute_error, mean_squared_error,r2_score\n",
    "from sklearn.linear_model import LinearRegression\n",
    "from sklearn.model_selection import train_test_split"
   ]
  },
  {
   "cell_type": "code",
   "execution_count": 4,
   "id": "b4e867dc",
   "metadata": {},
   "outputs": [],
   "source": [
    "import pandas as pd\n",
    "import numpy as np\n",
    "import matplotlib.pyplot as plt\n",
    "import seaborn as sns"
   ]
  },
  {
   "cell_type": "code",
   "execution_count": null,
   "id": "84249692",
   "metadata": {},
   "outputs": [],
   "source": []
  },
  {
   "cell_type": "markdown",
   "id": "3d8e4a63",
   "metadata": {},
   "source": [
    "###  ● Load the Energy Efficiency dataset using the pandas library.\n",
    "### ● Dataset Name: Energy Dataset"
   ]
  },
  {
   "cell_type": "code",
   "execution_count": 5,
   "id": "642aba79",
   "metadata": {},
   "outputs": [],
   "source": [
    "EnergyEfficiencyDataFrame = pd.read_csv(\"data/Energy Dataset.csv\") # Read csv file"
   ]
  },
  {
   "cell_type": "code",
   "execution_count": 6,
   "id": "eaefc0f0",
   "metadata": {},
   "outputs": [
    {
     "data": {
      "text/html": [
       "<div>\n",
       "<style scoped>\n",
       "    .dataframe tbody tr th:only-of-type {\n",
       "        vertical-align: middle;\n",
       "    }\n",
       "\n",
       "    .dataframe tbody tr th {\n",
       "        vertical-align: top;\n",
       "    }\n",
       "\n",
       "    .dataframe thead th {\n",
       "        text-align: right;\n",
       "    }\n",
       "</style>\n",
       "<table border=\"1\" class=\"dataframe\">\n",
       "  <thead>\n",
       "    <tr style=\"text-align: right;\">\n",
       "      <th></th>\n",
       "      <th>X1</th>\n",
       "      <th>X2</th>\n",
       "      <th>X3</th>\n",
       "      <th>X4</th>\n",
       "      <th>X5</th>\n",
       "      <th>X6</th>\n",
       "      <th>X7</th>\n",
       "      <th>X8</th>\n",
       "      <th>Heating Load</th>\n",
       "    </tr>\n",
       "  </thead>\n",
       "  <tbody>\n",
       "    <tr>\n",
       "      <th>0</th>\n",
       "      <td>0.98</td>\n",
       "      <td>514.5</td>\n",
       "      <td>294.0</td>\n",
       "      <td>110.25</td>\n",
       "      <td>7.0</td>\n",
       "      <td>2</td>\n",
       "      <td>0.0</td>\n",
       "      <td>0</td>\n",
       "      <td>15.55</td>\n",
       "    </tr>\n",
       "    <tr>\n",
       "      <th>1</th>\n",
       "      <td>0.98</td>\n",
       "      <td>514.5</td>\n",
       "      <td>294.0</td>\n",
       "      <td>110.25</td>\n",
       "      <td>7.0</td>\n",
       "      <td>3</td>\n",
       "      <td>0.0</td>\n",
       "      <td>0</td>\n",
       "      <td>15.55</td>\n",
       "    </tr>\n",
       "    <tr>\n",
       "      <th>2</th>\n",
       "      <td>0.98</td>\n",
       "      <td>514.5</td>\n",
       "      <td>294.0</td>\n",
       "      <td>110.25</td>\n",
       "      <td>7.0</td>\n",
       "      <td>4</td>\n",
       "      <td>0.0</td>\n",
       "      <td>0</td>\n",
       "      <td>15.55</td>\n",
       "    </tr>\n",
       "    <tr>\n",
       "      <th>3</th>\n",
       "      <td>0.98</td>\n",
       "      <td>514.5</td>\n",
       "      <td>294.0</td>\n",
       "      <td>110.25</td>\n",
       "      <td>7.0</td>\n",
       "      <td>5</td>\n",
       "      <td>0.0</td>\n",
       "      <td>0</td>\n",
       "      <td>15.55</td>\n",
       "    </tr>\n",
       "    <tr>\n",
       "      <th>4</th>\n",
       "      <td>0.90</td>\n",
       "      <td>563.5</td>\n",
       "      <td>318.5</td>\n",
       "      <td>122.50</td>\n",
       "      <td>7.0</td>\n",
       "      <td>2</td>\n",
       "      <td>0.0</td>\n",
       "      <td>0</td>\n",
       "      <td>20.84</td>\n",
       "    </tr>\n",
       "  </tbody>\n",
       "</table>\n",
       "</div>"
      ],
      "text/plain": [
       "     X1     X2     X3      X4   X5  X6   X7  X8  Heating Load\n",
       "0  0.98  514.5  294.0  110.25  7.0   2  0.0   0         15.55\n",
       "1  0.98  514.5  294.0  110.25  7.0   3  0.0   0         15.55\n",
       "2  0.98  514.5  294.0  110.25  7.0   4  0.0   0         15.55\n",
       "3  0.98  514.5  294.0  110.25  7.0   5  0.0   0         15.55\n",
       "4  0.90  563.5  318.5  122.50  7.0   2  0.0   0         20.84"
      ]
     },
     "execution_count": 6,
     "metadata": {},
     "output_type": "execute_result"
    }
   ],
   "source": [
    "EnergyEfficiencyDataFrame.head(5) # fetch top 5 rows"
   ]
  },
  {
   "cell_type": "code",
   "execution_count": 7,
   "id": "ec44e15a",
   "metadata": {},
   "outputs": [
    {
     "data": {
      "text/html": [
       "<div>\n",
       "<style scoped>\n",
       "    .dataframe tbody tr th:only-of-type {\n",
       "        vertical-align: middle;\n",
       "    }\n",
       "\n",
       "    .dataframe tbody tr th {\n",
       "        vertical-align: top;\n",
       "    }\n",
       "\n",
       "    .dataframe thead th {\n",
       "        text-align: right;\n",
       "    }\n",
       "</style>\n",
       "<table border=\"1\" class=\"dataframe\">\n",
       "  <thead>\n",
       "    <tr style=\"text-align: right;\">\n",
       "      <th></th>\n",
       "      <th>X1</th>\n",
       "      <th>X2</th>\n",
       "      <th>X3</th>\n",
       "      <th>X4</th>\n",
       "      <th>X5</th>\n",
       "      <th>X6</th>\n",
       "      <th>X7</th>\n",
       "      <th>X8</th>\n",
       "      <th>Heating Load</th>\n",
       "    </tr>\n",
       "  </thead>\n",
       "  <tbody>\n",
       "    <tr>\n",
       "      <th>count</th>\n",
       "      <td>768.000000</td>\n",
       "      <td>768.000000</td>\n",
       "      <td>768.000000</td>\n",
       "      <td>768.000000</td>\n",
       "      <td>768.00000</td>\n",
       "      <td>768.000000</td>\n",
       "      <td>768.000000</td>\n",
       "      <td>768.00000</td>\n",
       "      <td>768.000000</td>\n",
       "    </tr>\n",
       "    <tr>\n",
       "      <th>mean</th>\n",
       "      <td>0.764167</td>\n",
       "      <td>671.708333</td>\n",
       "      <td>318.500000</td>\n",
       "      <td>176.604167</td>\n",
       "      <td>5.25000</td>\n",
       "      <td>3.500000</td>\n",
       "      <td>0.234375</td>\n",
       "      <td>2.81250</td>\n",
       "      <td>22.307201</td>\n",
       "    </tr>\n",
       "    <tr>\n",
       "      <th>std</th>\n",
       "      <td>0.105777</td>\n",
       "      <td>88.086116</td>\n",
       "      <td>43.626481</td>\n",
       "      <td>45.165950</td>\n",
       "      <td>1.75114</td>\n",
       "      <td>1.118763</td>\n",
       "      <td>0.133221</td>\n",
       "      <td>1.55096</td>\n",
       "      <td>10.090196</td>\n",
       "    </tr>\n",
       "    <tr>\n",
       "      <th>min</th>\n",
       "      <td>0.620000</td>\n",
       "      <td>514.500000</td>\n",
       "      <td>245.000000</td>\n",
       "      <td>110.250000</td>\n",
       "      <td>3.50000</td>\n",
       "      <td>2.000000</td>\n",
       "      <td>0.000000</td>\n",
       "      <td>0.00000</td>\n",
       "      <td>6.010000</td>\n",
       "    </tr>\n",
       "    <tr>\n",
       "      <th>25%</th>\n",
       "      <td>0.682500</td>\n",
       "      <td>606.375000</td>\n",
       "      <td>294.000000</td>\n",
       "      <td>140.875000</td>\n",
       "      <td>3.50000</td>\n",
       "      <td>2.750000</td>\n",
       "      <td>0.100000</td>\n",
       "      <td>1.75000</td>\n",
       "      <td>12.992500</td>\n",
       "    </tr>\n",
       "    <tr>\n",
       "      <th>50%</th>\n",
       "      <td>0.750000</td>\n",
       "      <td>673.750000</td>\n",
       "      <td>318.500000</td>\n",
       "      <td>183.750000</td>\n",
       "      <td>5.25000</td>\n",
       "      <td>3.500000</td>\n",
       "      <td>0.250000</td>\n",
       "      <td>3.00000</td>\n",
       "      <td>18.950000</td>\n",
       "    </tr>\n",
       "    <tr>\n",
       "      <th>75%</th>\n",
       "      <td>0.830000</td>\n",
       "      <td>741.125000</td>\n",
       "      <td>343.000000</td>\n",
       "      <td>220.500000</td>\n",
       "      <td>7.00000</td>\n",
       "      <td>4.250000</td>\n",
       "      <td>0.400000</td>\n",
       "      <td>4.00000</td>\n",
       "      <td>31.667500</td>\n",
       "    </tr>\n",
       "    <tr>\n",
       "      <th>max</th>\n",
       "      <td>0.980000</td>\n",
       "      <td>808.500000</td>\n",
       "      <td>416.500000</td>\n",
       "      <td>220.500000</td>\n",
       "      <td>7.00000</td>\n",
       "      <td>5.000000</td>\n",
       "      <td>0.400000</td>\n",
       "      <td>5.00000</td>\n",
       "      <td>43.100000</td>\n",
       "    </tr>\n",
       "  </tbody>\n",
       "</table>\n",
       "</div>"
      ],
      "text/plain": [
       "               X1          X2          X3          X4         X5          X6  \\\n",
       "count  768.000000  768.000000  768.000000  768.000000  768.00000  768.000000   \n",
       "mean     0.764167  671.708333  318.500000  176.604167    5.25000    3.500000   \n",
       "std      0.105777   88.086116   43.626481   45.165950    1.75114    1.118763   \n",
       "min      0.620000  514.500000  245.000000  110.250000    3.50000    2.000000   \n",
       "25%      0.682500  606.375000  294.000000  140.875000    3.50000    2.750000   \n",
       "50%      0.750000  673.750000  318.500000  183.750000    5.25000    3.500000   \n",
       "75%      0.830000  741.125000  343.000000  220.500000    7.00000    4.250000   \n",
       "max      0.980000  808.500000  416.500000  220.500000    7.00000    5.000000   \n",
       "\n",
       "               X7         X8  Heating Load  \n",
       "count  768.000000  768.00000    768.000000  \n",
       "mean     0.234375    2.81250     22.307201  \n",
       "std      0.133221    1.55096     10.090196  \n",
       "min      0.000000    0.00000      6.010000  \n",
       "25%      0.100000    1.75000     12.992500  \n",
       "50%      0.250000    3.00000     18.950000  \n",
       "75%      0.400000    4.00000     31.667500  \n",
       "max      0.400000    5.00000     43.100000  "
      ]
     },
     "execution_count": 7,
     "metadata": {},
     "output_type": "execute_result"
    }
   ],
   "source": [
    "EnergyEfficiencyDataFrame.describe() # describe dataset in terms of Mean, std, and Quartile vales"
   ]
  },
  {
   "cell_type": "code",
   "execution_count": 8,
   "id": "d600dc62",
   "metadata": {},
   "outputs": [
    {
     "name": "stdout",
     "output_type": "stream",
     "text": [
      "<class 'pandas.core.frame.DataFrame'>\n",
      "RangeIndex: 768 entries, 0 to 767\n",
      "Data columns (total 9 columns):\n",
      " #   Column        Non-Null Count  Dtype  \n",
      "---  ------        --------------  -----  \n",
      " 0   X1            768 non-null    float64\n",
      " 1   X2            768 non-null    float64\n",
      " 2   X3            768 non-null    float64\n",
      " 3   X4            768 non-null    float64\n",
      " 4   X5            768 non-null    float64\n",
      " 5   X6            768 non-null    int64  \n",
      " 6   X7            768 non-null    float64\n",
      " 7   X8            768 non-null    int64  \n",
      " 8   Heating Load  768 non-null    float64\n",
      "dtypes: float64(7), int64(2)\n",
      "memory usage: 54.1 KB\n"
     ]
    }
   ],
   "source": [
    "EnergyEfficiencyDataFrame.info() # display info about dataset, such as non null values or datatype"
   ]
  },
  {
   "cell_type": "code",
   "execution_count": null,
   "id": "860c6bb7",
   "metadata": {},
   "outputs": [],
   "source": []
  },
  {
   "cell_type": "markdown",
   "id": "4e78d244",
   "metadata": {},
   "source": [
    "### ● Apply necessary preprocessing steps on the dataset, such as handling missing values, scaling features, or encoding categorical variables if required."
   ]
  },
  {
   "cell_type": "code",
   "execution_count": 9,
   "id": "b626316b",
   "metadata": {},
   "outputs": [],
   "source": [
    "# this dataset does not contains any null value,, \n",
    "# so it is not necessary to implement any null values handling method...."
   ]
  },
  {
   "cell_type": "code",
   "execution_count": 10,
   "id": "d938485f",
   "metadata": {},
   "outputs": [],
   "source": [
    "# Moreover, this dataset does not contains any categorical column, \n",
    "# thus it is not necessary to implement label encoding as well..."
   ]
  },
  {
   "cell_type": "code",
   "execution_count": 11,
   "id": "1bcdee74",
   "metadata": {},
   "outputs": [
    {
     "data": {
      "text/plain": [
       "X1              0\n",
       "X2              0\n",
       "X3              0\n",
       "X4              0\n",
       "X5              0\n",
       "X6              0\n",
       "X7              0\n",
       "X8              0\n",
       "Heating Load    0\n",
       "dtype: int64"
      ]
     },
     "execution_count": 11,
     "metadata": {},
     "output_type": "execute_result"
    }
   ],
   "source": [
    "EnergyEfficiencyDataFrame.isnull().sum() # display sum of null values"
   ]
  },
  {
   "cell_type": "code",
   "execution_count": 12,
   "id": "fff58a06",
   "metadata": {},
   "outputs": [],
   "source": [
    "# i have tried to implement features scaling using standard scaler. \n",
    "# However, There was significent drop in accuracy of model after implementing Standarization \n",
    "# thus, the original dataset is highly accurate... "
   ]
  },
  {
   "cell_type": "code",
   "execution_count": null,
   "id": "bc5e2b5c",
   "metadata": {},
   "outputs": [],
   "source": []
  },
  {
   "cell_type": "markdown",
   "id": "363d329e",
   "metadata": {},
   "source": [
    "### ● Separate the features (X) and the target variable (y: heating load) from the dataset"
   ]
  },
  {
   "cell_type": "code",
   "execution_count": 13,
   "id": "e49c2934",
   "metadata": {},
   "outputs": [
    {
     "data": {
      "text/plain": [
       "Index(['X1', 'X2', 'X3', 'X4', 'X5', 'X6', 'X7', 'X8', 'Heating Load'], dtype='object')"
      ]
     },
     "execution_count": 13,
     "metadata": {},
     "output_type": "execute_result"
    }
   ],
   "source": [
    "EnergyEfficiencyDataFrame.columns # display all columns names of Dataframe"
   ]
  },
  {
   "cell_type": "code",
   "execution_count": 14,
   "id": "bd57ef7f",
   "metadata": {},
   "outputs": [
    {
     "data": {
      "text/html": [
       "<div>\n",
       "<style scoped>\n",
       "    .dataframe tbody tr th:only-of-type {\n",
       "        vertical-align: middle;\n",
       "    }\n",
       "\n",
       "    .dataframe tbody tr th {\n",
       "        vertical-align: top;\n",
       "    }\n",
       "\n",
       "    .dataframe thead th {\n",
       "        text-align: right;\n",
       "    }\n",
       "</style>\n",
       "<table border=\"1\" class=\"dataframe\">\n",
       "  <thead>\n",
       "    <tr style=\"text-align: right;\">\n",
       "      <th></th>\n",
       "      <th>X1</th>\n",
       "      <th>X2</th>\n",
       "      <th>X3</th>\n",
       "      <th>X4</th>\n",
       "      <th>X5</th>\n",
       "      <th>X6</th>\n",
       "      <th>X7</th>\n",
       "      <th>X8</th>\n",
       "    </tr>\n",
       "  </thead>\n",
       "  <tbody>\n",
       "    <tr>\n",
       "      <th>0</th>\n",
       "      <td>0.98</td>\n",
       "      <td>514.5</td>\n",
       "      <td>294.0</td>\n",
       "      <td>110.25</td>\n",
       "      <td>7.0</td>\n",
       "      <td>2</td>\n",
       "      <td>0.0</td>\n",
       "      <td>0</td>\n",
       "    </tr>\n",
       "    <tr>\n",
       "      <th>1</th>\n",
       "      <td>0.98</td>\n",
       "      <td>514.5</td>\n",
       "      <td>294.0</td>\n",
       "      <td>110.25</td>\n",
       "      <td>7.0</td>\n",
       "      <td>3</td>\n",
       "      <td>0.0</td>\n",
       "      <td>0</td>\n",
       "    </tr>\n",
       "    <tr>\n",
       "      <th>2</th>\n",
       "      <td>0.98</td>\n",
       "      <td>514.5</td>\n",
       "      <td>294.0</td>\n",
       "      <td>110.25</td>\n",
       "      <td>7.0</td>\n",
       "      <td>4</td>\n",
       "      <td>0.0</td>\n",
       "      <td>0</td>\n",
       "    </tr>\n",
       "    <tr>\n",
       "      <th>3</th>\n",
       "      <td>0.98</td>\n",
       "      <td>514.5</td>\n",
       "      <td>294.0</td>\n",
       "      <td>110.25</td>\n",
       "      <td>7.0</td>\n",
       "      <td>5</td>\n",
       "      <td>0.0</td>\n",
       "      <td>0</td>\n",
       "    </tr>\n",
       "    <tr>\n",
       "      <th>4</th>\n",
       "      <td>0.90</td>\n",
       "      <td>563.5</td>\n",
       "      <td>318.5</td>\n",
       "      <td>122.50</td>\n",
       "      <td>7.0</td>\n",
       "      <td>2</td>\n",
       "      <td>0.0</td>\n",
       "      <td>0</td>\n",
       "    </tr>\n",
       "    <tr>\n",
       "      <th>...</th>\n",
       "      <td>...</td>\n",
       "      <td>...</td>\n",
       "      <td>...</td>\n",
       "      <td>...</td>\n",
       "      <td>...</td>\n",
       "      <td>...</td>\n",
       "      <td>...</td>\n",
       "      <td>...</td>\n",
       "    </tr>\n",
       "    <tr>\n",
       "      <th>763</th>\n",
       "      <td>0.64</td>\n",
       "      <td>784.0</td>\n",
       "      <td>343.0</td>\n",
       "      <td>220.50</td>\n",
       "      <td>3.5</td>\n",
       "      <td>5</td>\n",
       "      <td>0.4</td>\n",
       "      <td>5</td>\n",
       "    </tr>\n",
       "    <tr>\n",
       "      <th>764</th>\n",
       "      <td>0.62</td>\n",
       "      <td>808.5</td>\n",
       "      <td>367.5</td>\n",
       "      <td>220.50</td>\n",
       "      <td>3.5</td>\n",
       "      <td>2</td>\n",
       "      <td>0.4</td>\n",
       "      <td>5</td>\n",
       "    </tr>\n",
       "    <tr>\n",
       "      <th>765</th>\n",
       "      <td>0.62</td>\n",
       "      <td>808.5</td>\n",
       "      <td>367.5</td>\n",
       "      <td>220.50</td>\n",
       "      <td>3.5</td>\n",
       "      <td>3</td>\n",
       "      <td>0.4</td>\n",
       "      <td>5</td>\n",
       "    </tr>\n",
       "    <tr>\n",
       "      <th>766</th>\n",
       "      <td>0.62</td>\n",
       "      <td>808.5</td>\n",
       "      <td>367.5</td>\n",
       "      <td>220.50</td>\n",
       "      <td>3.5</td>\n",
       "      <td>4</td>\n",
       "      <td>0.4</td>\n",
       "      <td>5</td>\n",
       "    </tr>\n",
       "    <tr>\n",
       "      <th>767</th>\n",
       "      <td>0.62</td>\n",
       "      <td>808.5</td>\n",
       "      <td>367.5</td>\n",
       "      <td>220.50</td>\n",
       "      <td>3.5</td>\n",
       "      <td>5</td>\n",
       "      <td>0.4</td>\n",
       "      <td>5</td>\n",
       "    </tr>\n",
       "  </tbody>\n",
       "</table>\n",
       "<p>768 rows × 8 columns</p>\n",
       "</div>"
      ],
      "text/plain": [
       "       X1     X2     X3      X4   X5  X6   X7  X8\n",
       "0    0.98  514.5  294.0  110.25  7.0   2  0.0   0\n",
       "1    0.98  514.5  294.0  110.25  7.0   3  0.0   0\n",
       "2    0.98  514.5  294.0  110.25  7.0   4  0.0   0\n",
       "3    0.98  514.5  294.0  110.25  7.0   5  0.0   0\n",
       "4    0.90  563.5  318.5  122.50  7.0   2  0.0   0\n",
       "..    ...    ...    ...     ...  ...  ..  ...  ..\n",
       "763  0.64  784.0  343.0  220.50  3.5   5  0.4   5\n",
       "764  0.62  808.5  367.5  220.50  3.5   2  0.4   5\n",
       "765  0.62  808.5  367.5  220.50  3.5   3  0.4   5\n",
       "766  0.62  808.5  367.5  220.50  3.5   4  0.4   5\n",
       "767  0.62  808.5  367.5  220.50  3.5   5  0.4   5\n",
       "\n",
       "[768 rows x 8 columns]"
      ]
     },
     "execution_count": 14,
     "metadata": {},
     "output_type": "execute_result"
    }
   ],
   "source": [
    "# fetch independent columns and pass them to X variable \n",
    "# which i will later use it for futher spliting in training and testing.\n",
    "X_EEDF = EnergyEfficiencyDataFrame[['X1', 'X2', 'X3', 'X4', 'X5', 'X6', 'X7', 'X8']]\n",
    "X_EEDF"
   ]
  },
  {
   "cell_type": "code",
   "execution_count": 15,
   "id": "f3b2fdaf",
   "metadata": {},
   "outputs": [
    {
     "data": {
      "text/plain": [
       "0      15.55\n",
       "1      15.55\n",
       "2      15.55\n",
       "3      15.55\n",
       "4      20.84\n",
       "       ...  \n",
       "763    17.88\n",
       "764    16.54\n",
       "765    16.44\n",
       "766    16.48\n",
       "767    16.64\n",
       "Name: Heating Load, Length: 768, dtype: float64"
      ]
     },
     "execution_count": 15,
     "metadata": {},
     "output_type": "execute_result"
    }
   ],
   "source": [
    "# fetch dependent variable from dataframe and Assign it to Y variable..\n",
    "# which i will later use it for futher spliting in training and testing.\n",
    "Y_EEDF = EnergyEfficiencyDataFrame['Heating Load']\n",
    "Y_EEDF"
   ]
  },
  {
   "cell_type": "markdown",
   "id": "12a751f7",
   "metadata": {},
   "source": [
    "### ● Split the dataset into training and testing sets using an 80:20 ratio."
   ]
  },
  {
   "cell_type": "code",
   "execution_count": 16,
   "id": "fe161854",
   "metadata": {},
   "outputs": [],
   "source": [
    "# split the upper declared variable into training and testing data\n",
    "X_train_EEDF,X_test_EEDF,y_train_EEDF,y_test_EEDF = train_test_split(X_EEDF,\n",
    "                                                                     Y_EEDF, \n",
    "                                                                     test_size=0.2)"
   ]
  },
  {
   "cell_type": "code",
   "execution_count": 17,
   "id": "04ad3c07",
   "metadata": {},
   "outputs": [
    {
     "data": {
      "text/plain": [
       "(614, 8)"
      ]
     },
     "execution_count": 17,
     "metadata": {},
     "output_type": "execute_result"
    }
   ],
   "source": [
    "X_train_EEDF.shape # print rows and columns count of training dataset "
   ]
  },
  {
   "cell_type": "code",
   "execution_count": 18,
   "id": "052a2d39",
   "metadata": {},
   "outputs": [
    {
     "data": {
      "text/plain": [
       "(154, 8)"
      ]
     },
     "execution_count": 18,
     "metadata": {},
     "output_type": "execute_result"
    }
   ],
   "source": [
    "X_test_EEDF.shape # print rows and columns count of testing dataset "
   ]
  },
  {
   "cell_type": "code",
   "execution_count": null,
   "id": "04b19d8b",
   "metadata": {},
   "outputs": [],
   "source": []
  },
  {
   "cell_type": "markdown",
   "id": "b8449915",
   "metadata": {},
   "source": [
    "### ●. Perform multi-linear regression:\n",
    "\n",
    "● Fit a multi-linear regression model to the training data using the\n",
    "LinearRegression class from the sklearn.linear_model module.\n",
    "\n",
    "● Predict the heating load for the testing data using the trained model.\n",
    "\n",
    "● Evaluate the performance of the model by calculating metrics such as mean\n",
    "squared error (MSE) and coefficient of determination (R^2).\n",
    "\n",
    "● Print the MSE and R^2 values to assess the model's accuracy"
   ]
  },
  {
   "cell_type": "code",
   "execution_count": 19,
   "id": "62ca41db",
   "metadata": {},
   "outputs": [],
   "source": [
    "Ml_reg_obj = LinearRegression() # create model object"
   ]
  },
  {
   "cell_type": "code",
   "execution_count": 20,
   "id": "142a593e",
   "metadata": {},
   "outputs": [
    {
     "data": {
      "text/html": [
       "<style>#sk-container-id-1 {color: black;}#sk-container-id-1 pre{padding: 0;}#sk-container-id-1 div.sk-toggleable {background-color: white;}#sk-container-id-1 label.sk-toggleable__label {cursor: pointer;display: block;width: 100%;margin-bottom: 0;padding: 0.3em;box-sizing: border-box;text-align: center;}#sk-container-id-1 label.sk-toggleable__label-arrow:before {content: \"▸\";float: left;margin-right: 0.25em;color: #696969;}#sk-container-id-1 label.sk-toggleable__label-arrow:hover:before {color: black;}#sk-container-id-1 div.sk-estimator:hover label.sk-toggleable__label-arrow:before {color: black;}#sk-container-id-1 div.sk-toggleable__content {max-height: 0;max-width: 0;overflow: hidden;text-align: left;background-color: #f0f8ff;}#sk-container-id-1 div.sk-toggleable__content pre {margin: 0.2em;color: black;border-radius: 0.25em;background-color: #f0f8ff;}#sk-container-id-1 input.sk-toggleable__control:checked~div.sk-toggleable__content {max-height: 200px;max-width: 100%;overflow: auto;}#sk-container-id-1 input.sk-toggleable__control:checked~label.sk-toggleable__label-arrow:before {content: \"▾\";}#sk-container-id-1 div.sk-estimator input.sk-toggleable__control:checked~label.sk-toggleable__label {background-color: #d4ebff;}#sk-container-id-1 div.sk-label input.sk-toggleable__control:checked~label.sk-toggleable__label {background-color: #d4ebff;}#sk-container-id-1 input.sk-hidden--visually {border: 0;clip: rect(1px 1px 1px 1px);clip: rect(1px, 1px, 1px, 1px);height: 1px;margin: -1px;overflow: hidden;padding: 0;position: absolute;width: 1px;}#sk-container-id-1 div.sk-estimator {font-family: monospace;background-color: #f0f8ff;border: 1px dotted black;border-radius: 0.25em;box-sizing: border-box;margin-bottom: 0.5em;}#sk-container-id-1 div.sk-estimator:hover {background-color: #d4ebff;}#sk-container-id-1 div.sk-parallel-item::after {content: \"\";width: 100%;border-bottom: 1px solid gray;flex-grow: 1;}#sk-container-id-1 div.sk-label:hover label.sk-toggleable__label {background-color: #d4ebff;}#sk-container-id-1 div.sk-serial::before {content: \"\";position: absolute;border-left: 1px solid gray;box-sizing: border-box;top: 0;bottom: 0;left: 50%;z-index: 0;}#sk-container-id-1 div.sk-serial {display: flex;flex-direction: column;align-items: center;background-color: white;padding-right: 0.2em;padding-left: 0.2em;position: relative;}#sk-container-id-1 div.sk-item {position: relative;z-index: 1;}#sk-container-id-1 div.sk-parallel {display: flex;align-items: stretch;justify-content: center;background-color: white;position: relative;}#sk-container-id-1 div.sk-item::before, #sk-container-id-1 div.sk-parallel-item::before {content: \"\";position: absolute;border-left: 1px solid gray;box-sizing: border-box;top: 0;bottom: 0;left: 50%;z-index: -1;}#sk-container-id-1 div.sk-parallel-item {display: flex;flex-direction: column;z-index: 1;position: relative;background-color: white;}#sk-container-id-1 div.sk-parallel-item:first-child::after {align-self: flex-end;width: 50%;}#sk-container-id-1 div.sk-parallel-item:last-child::after {align-self: flex-start;width: 50%;}#sk-container-id-1 div.sk-parallel-item:only-child::after {width: 0;}#sk-container-id-1 div.sk-dashed-wrapped {border: 1px dashed gray;margin: 0 0.4em 0.5em 0.4em;box-sizing: border-box;padding-bottom: 0.4em;background-color: white;}#sk-container-id-1 div.sk-label label {font-family: monospace;font-weight: bold;display: inline-block;line-height: 1.2em;}#sk-container-id-1 div.sk-label-container {text-align: center;}#sk-container-id-1 div.sk-container {/* jupyter's `normalize.less` sets `[hidden] { display: none; }` but bootstrap.min.css set `[hidden] { display: none !important; }` so we also need the `!important` here to be able to override the default hidden behavior on the sphinx rendered scikit-learn.org. See: https://github.com/scikit-learn/scikit-learn/issues/21755 */display: inline-block !important;position: relative;}#sk-container-id-1 div.sk-text-repr-fallback {display: none;}</style><div id=\"sk-container-id-1\" class=\"sk-top-container\"><div class=\"sk-text-repr-fallback\"><pre>LinearRegression()</pre><b>In a Jupyter environment, please rerun this cell to show the HTML representation or trust the notebook. <br />On GitHub, the HTML representation is unable to render, please try loading this page with nbviewer.org.</b></div><div class=\"sk-container\" hidden><div class=\"sk-item\"><div class=\"sk-estimator sk-toggleable\"><input class=\"sk-toggleable__control sk-hidden--visually\" id=\"sk-estimator-id-1\" type=\"checkbox\" checked><label for=\"sk-estimator-id-1\" class=\"sk-toggleable__label sk-toggleable__label-arrow\">LinearRegression</label><div class=\"sk-toggleable__content\"><pre>LinearRegression()</pre></div></div></div></div></div>"
      ],
      "text/plain": [
       "LinearRegression()"
      ]
     },
     "execution_count": 20,
     "metadata": {},
     "output_type": "execute_result"
    }
   ],
   "source": [
    "Ml_reg_obj.fit(X_train_EEDF,y_train_EEDF) # then fit training X and Y values to model object"
   ]
  },
  {
   "cell_type": "code",
   "execution_count": 21,
   "id": "c12464ce",
   "metadata": {},
   "outputs": [],
   "source": [
    "y_pred_multi = Ml_reg_obj.predict(X_test_EEDF) # predict the Y test values beasd X test values"
   ]
  },
  {
   "cell_type": "code",
   "execution_count": 22,
   "id": "fd6f1670",
   "metadata": {},
   "outputs": [
    {
     "name": "stdout",
     "output_type": "stream",
     "text": [
      "The accuracy in r2_score is 0.9110345794403927\n",
      "The mse is 8.84962336322865\n",
      "The mae is 2.1139833701039814\n"
     ]
    }
   ],
   "source": [
    "# print performance of regression model\n",
    "print(f'The accuracy in r2_score is {r2_score(y_test_EEDF,y_pred_multi)}')\n",
    "# for checking the error we will use either mean_Squared_error or mean_absolute_error\n",
    "print(f\"The mse is {mean_squared_error(y_pred_multi,y_test_EEDF)}\")\n",
    "print(f\"The mae is {mean_absolute_error(y_pred_multi,y_test_EEDF)}\")"
   ]
  },
  {
   "cell_type": "code",
   "execution_count": null,
   "id": "ac18c968",
   "metadata": {},
   "outputs": [],
   "source": []
  },
  {
   "cell_type": "code",
   "execution_count": 23,
   "id": "e8a94245",
   "metadata": {},
   "outputs": [
    {
     "data": {
      "image/png": "[encoded data removed]",
      "text/plain": [
       "<Figure size 600x600 with 1 Axes>"
      ]
     },
     "metadata": {},
     "output_type": "display_data"
    }
   ],
   "source": [
    "# Create the scatter plot\n",
    "plt.figure(figsize=(6, 6))\n",
    "plt.scatter(y_test_EEDF, y_pred_multi, color='green')\n",
    "plt.title('Predicted and Actual Heating Load using multi-linear regression')\n",
    "plt.xlabel('Actual Heating Load')\n",
    "plt.ylabel('Predicted Heating Load')\n",
    "plt.grid(True)"
   ]
  },
  {
   "cell_type": "code",
   "execution_count": null,
   "id": "19e6f72c",
   "metadata": {},
   "outputs": [],
   "source": []
  },
  {
   "cell_type": "markdown",
   "id": "e0d6abf7",
   "metadata": {},
   "source": [
    "### ● Perform polynomial regression:\n",
    "    \n",
    "● Use the PolynomialFeatures class from the sklearn.preprocessing module to\n",
    "transform the features into polynomial features.\n",
    "\n",
    "● Fit a polynomial regression model to the training data using the\n",
    "LinearRegression class.\n",
    "\n",
    "● Predict the heating load for the testing data using the trained polynomial\n",
    "regression model.\n",
    "\n",
    "● Evaluate the performance of the model by calculating MSE and R^2.\n",
    "\n",
    "● Print the MSE and R^2 values."
   ]
  },
  {
   "cell_type": "code",
   "execution_count": null,
   "id": "06eb6afc",
   "metadata": {},
   "outputs": [],
   "source": []
  },
  {
   "cell_type": "code",
   "execution_count": 24,
   "id": "261b2f36",
   "metadata": {},
   "outputs": [],
   "source": [
    "def createPolyRegression(degree):\n",
    "      polyFeatureObj = PolynomialFeatures(degree=degree)\n",
    "  \n",
    "      # transformation of features into higher degree features.\n",
    "      X_train_poly = polyFeatureObj.fit_transform(X_train_EEDF)\n",
    "  \n",
    "      # fit the transformed features to Linear Regression\n",
    "      polyLinearModel = LinearRegression()\n",
    "      polyLinearModel.fit(X_train_poly, y_train_EEDF)\n",
    "     \n",
    "      # predicting on test data-set\n",
    "      y_test_predict = polyLinearModel.predict(polyFeatureObj.fit_transform(X_test_EEDF))\n",
    "  \n",
    "     # evaluating the model on test dataset\n",
    "      print(f'The accuracy in r2_score is {r2_score(y_test_EEDF,y_test_predict)}')\n",
    "      # for checking the error we will use either mean_Squared_error or mean_absolute_error\n",
    "      print(f\"The mse is {mean_squared_error(y_test_predict,y_test_EEDF)}\")\n",
    "      print(f\"The mae is {mean_absolute_error(y_test_predict,y_test_EEDF)}\")\n",
    "      \n",
    "      # Create the scatter plot \n",
    "      plt.figure(figsize=(6, 6))\n",
    "      plt.scatter(y_test_EEDF, y_test_predict, color='green')\n",
    "      plt.title('Predicted and Actual Heating Load using multi-linear regression')\n",
    "      plt.xlabel('Actual Heating Load')\n",
    "      plt.ylabel('Predicted Heating Load')\n",
    "      plt.grid(True)"
   ]
  },
  {
   "cell_type": "code",
   "execution_count": 25,
   "id": "de78926f",
   "metadata": {},
   "outputs": [
    {
     "name": "stdout",
     "output_type": "stream",
     "text": [
      "The accuracy in r2_score is 0.9958578145841839\n",
      "The mse is 0.41203403075097916\n",
      "The mae is 0.4954362540696929\n"
     ]
    },
    {
     "data": {
      "image/png": "[encoded data removed]",
      "text/plain": [
       "<Figure size 600x600 with 1 Axes>"
      ]
     },
     "metadata": {},
     "output_type": "display_data"
    }
   ],
   "source": [
    "createPolyRegression(5)"
   ]
  },
  {
   "cell_type": "code",
   "execution_count": 26,
   "id": "77fb01fa",
   "metadata": {},
   "outputs": [
    {
     "name": "stdout",
     "output_type": "stream",
     "text": [
      "The accuracy in r2_score is 0.9962260960246815\n",
      "The mse is 0.3754001114195161\n",
      "The mae is 0.41013977264313034\n"
     ]
    },
    {
     "data": {
      "image/png": "[encoded data removed]",
      "text/plain": [
       "<Figure size 600x600 with 1 Axes>"
      ]
     },
     "metadata": {},
     "output_type": "display_data"
    }
   ],
   "source": [
    "createPolyRegression(12)"
   ]
  },
  {
   "cell_type": "code",
   "execution_count": null,
   "id": "3b97f301",
   "metadata": {},
   "outputs": [],
   "source": []
  },
  {
   "cell_type": "code",
   "execution_count": null,
   "id": "326daef8",
   "metadata": {},
   "outputs": [],
   "source": []
  },
  {
   "cell_type": "markdown",
   "id": "a140006d",
   "metadata": {},
   "source": [
    "### ● Compare the performance of the multi-linear regression and polynomial regression models based on the MSE and R^2 values."
   ]
  },
  {
   "cell_type": "markdown",
   "id": "85101242",
   "metadata": {},
   "source": [
    "R^2 values ====\n",
    "Comparing the R-squared values of two models can give us an indication of which model provides a better fit to the data. A higher R-squared value indicates that a larger proportion of the variation in the dependent variable is accounted for by the independent variables.\n",
    "\n",
    "\n",
    "MSE ==== The one with the lower MSE would have better generalization properties, and thus it would be closer to the true data generating process."
   ]
  },
  {
   "cell_type": "markdown",
   "id": "26f5e3c7",
   "metadata": {},
   "source": [
    "##### In the case of Polynominal Multivariant Regression the following was output. \n",
    "##### The accuracy in r2_score is 0.9976447539766983\n",
    "##### The mse is 0.23603141998167262\n",
    "##### The mae is 0.3467176731046918"
   ]
  },
  {
   "cell_type": "code",
   "execution_count": null,
   "id": "e0d8bfc7",
   "metadata": {},
   "outputs": [],
   "source": []
  },
  {
   "cell_type": "markdown",
   "id": "9c379d8c",
   "metadata": {},
   "source": [
    "##### However, in the case of multi-linear regression, the accuracy dropped to 90%, and there  was in increase in MSE and MAE value\n",
    "\n",
    "##### The accuracy in r2_score is 0.9091031012383393\n",
    "##### The mse is 9.109249681088029\n",
    "##### The mae is 2.16164960548948\n"
   ]
  },
  {
   "cell_type": "code",
   "execution_count": null,
   "id": "6fca0d6c",
   "metadata": {},
   "outputs": [],
   "source": []
  },
  {
   "cell_type": "markdown",
   "id": "b2c8018c",
   "metadata": {},
   "source": [
    "##### Thus in the nutshell, the performance of Polynominal Multivariant Regression  model is much better then  multi-linear regression model...\n"
   ]
  },
  {
   "cell_type": "code",
   "execution_count": null,
   "id": "547c8193",
   "metadata": {},
   "outputs": [],
   "source": []
  },
  {
   "cell_type": "code",
   "execution_count": null,
   "id": "765fc251",
   "metadata": {},
   "outputs": [],
   "source": []
  }
 ],
 "metadata": {
  "kernelspec": {
   "display_name": "Python 3 (ipykernel)",
   "language": "python",
   "name": "python3"
  },
  "language_info": {
   "codemirror_mode": {
    "name": "ipython",
    "version": 3
   },
   "file_extension": ".py",
   "mimetype": "text/x-python",
   "name": "python",
   "nbconvert_exporter": "python",
   "pygments_lexer": "ipython3",
   "version": "3.11.4"
  }
 },
 "nbformat": 4,
 "nbformat_minor": 5
}
